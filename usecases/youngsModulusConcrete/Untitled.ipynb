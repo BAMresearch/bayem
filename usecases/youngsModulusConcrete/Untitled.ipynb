{
 "cells": [
  {
   "cell_type": "code",
   "execution_count": 1,
   "metadata": {},
   "outputs": [],
   "source": [
    "import pandas as pd\n",
    "import os"
   ]
  },
  {
   "cell_type": "code",
   "execution_count": 2,
   "metadata": {},
   "outputs": [],
   "source": [
    "path = 'data/'"
   ]
  },
  {
   "cell_type": "code",
   "execution_count": null,
   "metadata": {},
   "outputs": [],
   "source": [
    "[f for f in os.listdir(path) if '.txt' in f]"
   ]
  },
  {
   "cell_type": "code",
   "execution_count": 5,
   "metadata": {},
   "outputs": [],
   "source": [
    "data = pd.read_csv(path+'100datengefiltert.txt',delimiter=\"\\t\",nrows=1)"
   ]
  },
  {
   "cell_type": "code",
   "execution_count": 6,
   "metadata": {},
   "outputs": [
    {
     "data": {
      "text/html": [
       "<div>\n",
       "<style scoped>\n",
       "    .dataframe tbody tr th:only-of-type {\n",
       "        vertical-align: middle;\n",
       "    }\n",
       "\n",
       "    .dataframe tbody tr th {\n",
       "        vertical-align: top;\n",
       "    }\n",
       "\n",
       "    .dataframe thead th {\n",
       "        text-align: right;\n",
       "    }\n",
       "</style>\n",
       "<table border=\"1\" class=\"dataframe\">\n",
       "  <thead>\n",
       "    <tr style=\"text-align: right;\">\n",
       "      <th></th>\n",
       "      <th>Datum :</th>\n",
       "      <th>11.09.2014</th>\n",
       "    </tr>\n",
       "  </thead>\n",
       "  <tbody>\n",
       "    <tr>\n",
       "      <th>0</th>\n",
       "      <td>Durchmesser :</td>\n",
       "      <td>98,5</td>\n",
       "    </tr>\n",
       "  </tbody>\n",
       "</table>\n",
       "</div>"
      ],
      "text/plain": [
       "        Datum :  11.09.2014\n",
       "0  Durchmesser :       98,5"
      ]
     },
     "execution_count": 6,
     "metadata": {},
     "output_type": "execute_result"
    }
   ],
   "source": [
    "data"
   ]
  },
  {
   "cell_type": "code",
   "execution_count": 43,
   "metadata": {},
   "outputs": [],
   "source": [
    "tmp = []\n",
    "for file in [f for f in os.listdir(path) if '.txt' in f]:\n",
    "    fname = file\n",
    "    data = pd.read_csv(path+file,delimiter=\"\\t\",sep=';\\s', header=None,nrows=2,usecols=[1], engine='python').T\n",
    "    \n",
    "    #data = pd.read_csv(path+file,delimiter=\"\\t\").iloc[[0],:]\n",
    "    tmp.append(data.assign(name=fname))\n",
    "    #.iloc[[0, 2], :].assign(name=fname)"
   ]
  },
  {
   "cell_type": "code",
   "execution_count": 44,
   "metadata": {},
   "outputs": [
    {
     "data": {
      "text/html": [
       "<div>\n",
       "<style scoped>\n",
       "    .dataframe tbody tr th:only-of-type {\n",
       "        vertical-align: middle;\n",
       "    }\n",
       "\n",
       "    .dataframe tbody tr th {\n",
       "        vertical-align: top;\n",
       "    }\n",
       "\n",
       "    .dataframe thead th {\n",
       "        text-align: right;\n",
       "    }\n",
       "</style>\n",
       "<table border=\"1\" class=\"dataframe\">\n",
       "  <thead>\n",
       "    <tr style=\"text-align: right;\">\n",
       "      <th></th>\n",
       "      <th>0</th>\n",
       "      <th>1</th>\n",
       "    </tr>\n",
       "  </thead>\n",
       "  <tbody>\n",
       "    <tr>\n",
       "      <th>1</th>\n",
       "      <td>18.7.2014</td>\n",
       "      <td>100,4</td>\n",
       "    </tr>\n",
       "  </tbody>\n",
       "</table>\n",
       "</div>"
      ],
      "text/plain": [
       "           0      1\n",
       "1  18.7.2014  100,4"
      ]
     },
     "execution_count": 44,
     "metadata": {},
     "output_type": "execute_result"
    }
   ],
   "source": [
    "data"
   ]
  },
  {
   "cell_type": "code",
   "execution_count": 45,
   "metadata": {},
   "outputs": [
    {
     "data": {
      "text/plain": [
       "[           0      1                  name\n",
       " 1  11.6.2014  199,8  76datengefiltert.txt,\n",
       "             0     1                  name\n",
       " 1  15.05.2014  69,4  84datengefiltert.txt,\n",
       "             0      1                  name\n",
       " 1  24.10.2012  149,6  16datengefiltert.txt,\n",
       "            0      1                  name\n",
       " 1  18.7.2014  100,6  72datengefiltert.txt,\n",
       "             0      1                  name\n",
       " 1  15.05.2014  141,2  47datengefiltert.txt,\n",
       "             0     1                  name\n",
       " 1  11.09.2014  98,5  61datengefiltert.txt,\n",
       "            0      1                  name\n",
       " 1  27.8.2014  47,84  12datengefiltert.txt,\n",
       "            0      1                  name\n",
       " 1  17.7.2014  100,6  43datengefiltert.txt,\n",
       "            0      1                  name\n",
       " 1  18.7.2014  100,3  86datengefiltert.txt,\n",
       "            0    1                  name\n",
       " 1  18.3.2014  100  25datengefiltert.txt,\n",
       "            0     1                  name\n",
       " 1  27.8.2014  47,9  41datengefiltert.txt,\n",
       "            0     1                  name\n",
       " 1  27.8.2014  48,7  46datengefiltert.txt,\n",
       "            0      1                  name\n",
       " 1  11.6.2014  200,1  77datengefiltert.txt,\n",
       "             0     1                  name\n",
       " 1  01.09.2014  98,6  17datengefiltert.txt,\n",
       "             0     1                  name\n",
       " 1  01.09.2014  98,7  56datengefiltert.txt,\n",
       "             0     1                  name\n",
       " 1  28.02.2014  98,7  88datengefiltert.txt,\n",
       "            0      1                   name\n",
       " 1  11.6.2014  199,9  103datengefiltert.txt,\n",
       "             0     1                 name\n",
       " 1  05.12.2013  69,3  2datengefiltert.txt,\n",
       "            0     1                  name\n",
       " 1  14.5.2014  47,5  15datengefiltert.txt,\n",
       "            0     1                  name\n",
       " 1  27.8.2014  47,6  23datengefiltert.txt,\n",
       "             0   1                 name\n",
       " 1  20.12.2011  50  9datengefiltert.txt,\n",
       "             0      1                  name\n",
       " 1  06.06.2011  149,3  67datengefiltert.txt,\n",
       "            0     1                  name\n",
       " 1  25.3.2014  98,6  53datengefiltert.txt,\n",
       "            0   1                  name\n",
       " 1  18.3.2014  99  27datengefiltert.txt,\n",
       "             0     1                 name\n",
       " 1  05.12.2013  69,3  0datengefiltert.txt,\n",
       "            0     1                  name\n",
       " 1  14.5.2014  48,0  90datengefiltert.txt,\n",
       "             0      1                  name\n",
       " 1  09.11.2011  100,0  54datengefiltert.txt,\n",
       "            0   1                  name\n",
       " 1  18.3.2014  99  40datengefiltert.txt,\n",
       "             0     1                  name\n",
       " 1  03.09.2014  98,6  64datengefiltert.txt,\n",
       "            0     1                  name\n",
       " 1  27.8.2014  48,5  49datengefiltert.txt,\n",
       "             0     1                  name\n",
       " 1  03.09.2014  98,6  78datengefiltert.txt,\n",
       "             0    1                  name\n",
       " 1  09.09.2013  295  95datengefiltert.txt,\n",
       "             0     1                  name\n",
       " 1  14.11.2011  98,5  59datengefiltert.txt,\n",
       "            0   1                  name\n",
       " 1  18.3.2014  99  11datengefiltert.txt,\n",
       "             0      1                  name\n",
       " 1  31.05.2011  149,4  82datengefiltert.txt,\n",
       "             0     1                  name\n",
       " 1  15.05.2014  69,3  62datengefiltert.txt,\n",
       "             0     1                  name\n",
       " 1  05.12.2013  69,2  71datengefiltert.txt,\n",
       "           0     1                  name\n",
       " 1  9.7.2014  98,7  65datengefiltert.txt,\n",
       "           0     1                  name\n",
       " 1  8.4.2014  98,6  32datengefiltert.txt,\n",
       "            0      1                  name\n",
       " 1  18.7.2014  100,3  50datengefiltert.txt,\n",
       "            0     1                  name\n",
       " 1  25.3.2014  98,8  42datengefiltert.txt,\n",
       "            0      1                  name\n",
       " 1  17.7.2014  100,6  96datengefiltert.txt,\n",
       "           0     1                  name\n",
       " 1  9.7.2014  98,7  66datengefiltert.txt,\n",
       "            0      1                 name\n",
       " 1  11.6.2014  199,8  7datengefiltert.txt,\n",
       "            0    1                  name\n",
       " 1  18.3.2014  100  57datengefiltert.txt,\n",
       "             0      1                  name\n",
       " 1  07.11.2011  100,1  45datengefiltert.txt,\n",
       "             0     1                  name\n",
       " 1  11.09.2014  98,6  85datengefiltert.txt,\n",
       "             0     1                  name\n",
       " 1  01.09.2014  98,6  36datengefiltert.txt,\n",
       "            0     1                   name\n",
       " 1  14.5.2014  47,7  100datengefiltert.txt,\n",
       "             0   1                  name\n",
       " 1  20.12.2011  50  89datengefiltert.txt,\n",
       "             0    1                  name\n",
       " 1  09.09.2013  150  29datengefiltert.txt,\n",
       "            0      1                  name\n",
       " 1  18.7.2014  100,3  33datengefiltert.txt,\n",
       "            0      1                  name\n",
       " 1  11.6.2014  200,1  51datengefiltert.txt,\n",
       "            0      1                  name\n",
       " 1  18.7.2014  100,4  74datengefiltert.txt,\n",
       "             0      1                  name\n",
       " 1  25.07.2013  149,5  30datengefiltert.txt,\n",
       "             0     1                  name\n",
       " 1  11.09.2014  98,5  70datengefiltert.txt,\n",
       "            0      1                  name\n",
       " 1  18.7.2014  100,3  94datengefiltert.txt,\n",
       "             0     1                   name\n",
       " 1  01.09.2014  98,6  102datengefiltert.txt,\n",
       "            0   1                   name\n",
       " 1  18.3.2014  99  104datengefiltert.txt,\n",
       "             0      1                  name\n",
       " 1  06.06.2011  149,5  21datengefiltert.txt,\n",
       "            0      1                  name\n",
       " 1  11.6.2014  199,9  93datengefiltert.txt,\n",
       "             0      1                  name\n",
       " 1  07.11.2011  100,2  55datengefiltert.txt,\n",
       "             0     1                  name\n",
       " 1  28.02.2014  98,6  79datengefiltert.txt,\n",
       "            0     1                  name\n",
       " 1  27.8.2014  48,9  63datengefiltert.txt,\n",
       "             0     1                  name\n",
       " 1  15.05.2014  69,4  48datengefiltert.txt,\n",
       "            0      1                  name\n",
       " 1  18.7.2014  100,4  97datengefiltert.txt,\n",
       "             0     1                  name\n",
       " 1  01.09.2014  98,6  44datengefiltert.txt,\n",
       "            0      1                  name\n",
       " 1  17.7.2014  100,4  37datengefiltert.txt,\n",
       "             0      1                  name\n",
       " 1  17.10.2012  149,5  68datengefiltert.txt,\n",
       "             0     1                  name\n",
       " 1  03.09.2014  98,6  91datengefiltert.txt,\n",
       "             0     1                  name\n",
       " 1  01.09.2014  98,7  99datengefiltert.txt,\n",
       "             0     1                 name\n",
       " 1  11.09.2014  98,5  1datengefiltert.txt,\n",
       "             0     1                   name\n",
       " 1  15.05.2014  69,4  101datengefiltert.txt,\n",
       "           0     1                  name\n",
       " 1  9.7.2014  98,5  92datengefiltert.txt,\n",
       "             0      1                  name\n",
       " 1  12.09.2013  149,5  87datengefiltert.txt,\n",
       "           0     1                 name\n",
       " 1  8.4.2014  98,6  8datengefiltert.txt,\n",
       "             0     1                  name\n",
       " 1  03.09.2014  98,7  26datengefiltert.txt,\n",
       "             0     1                  name\n",
       " 1  11.09.2014  98,7  38datengefiltert.txt,\n",
       "            0      1                  name\n",
       " 1  18.7.2014  100,2  24datengefiltert.txt,\n",
       "             0    1                  name\n",
       " 1  14.08.2013  150  52datengefiltert.txt,\n",
       "             0     1                  name\n",
       " 1  14.11.2011  98,5  19datengefiltert.txt,\n",
       "             0     1                  name\n",
       " 1  05.12.2013  69,3  73datengefiltert.txt,\n",
       "            0     1                  name\n",
       " 1  25.3.2014  98,5  75datengefiltert.txt,\n",
       "           0     1                 name\n",
       " 1  8.4.2014  98,7  6datengefiltert.txt,\n",
       "             0     1                 name\n",
       " 1  28.02.2014  98,6  5datengefiltert.txt,\n",
       "             0     1                  name\n",
       " 1  03.09.2014  98,6  31datengefiltert.txt,\n",
       "             0    1                  name\n",
       " 1  09.09.2013  150  69datengefiltert.txt,\n",
       "             0    1                  name\n",
       " 1  09.09.2013  150  34datengefiltert.txt,\n",
       "             0     1                  name\n",
       " 1  15.05.2014  69,4  10datengefiltert.txt,\n",
       "             0     1                  name\n",
       " 1  11.09.2014  98,7  20datengefiltert.txt,\n",
       "             0    1                  name\n",
       " 1  09.09.2013  150  60datengefiltert.txt,\n",
       "             0      1                  name\n",
       " 1  14.11.2014  93,85  80datengefiltert.txt,\n",
       "             0     1                  name\n",
       " 1  03.09.2014  98,6  39datengefiltert.txt,\n",
       "            0      1                  name\n",
       " 1  18.7.2014  100,4  28datengefiltert.txt]"
      ]
     },
     "execution_count": 45,
     "metadata": {},
     "output_type": "execute_result"
    }
   ],
   "source": [
    "tmp"
   ]
  },
  {
   "cell_type": "code",
   "execution_count": 46,
   "metadata": {},
   "outputs": [],
   "source": [
    "df = pd.concat(tmp)"
   ]
  },
  {
   "cell_type": "code",
   "execution_count": 48,
   "metadata": {},
   "outputs": [],
   "source": [
    "df.to_csv(path+'filtered_data.csv',index=False)"
   ]
  },
  {
   "cell_type": "code",
   "execution_count": 47,
   "metadata": {},
   "outputs": [
    {
     "data": {
      "text/html": [
       "<div>\n",
       "<style scoped>\n",
       "    .dataframe tbody tr th:only-of-type {\n",
       "        vertical-align: middle;\n",
       "    }\n",
       "\n",
       "    .dataframe tbody tr th {\n",
       "        vertical-align: top;\n",
       "    }\n",
       "\n",
       "    .dataframe thead th {\n",
       "        text-align: right;\n",
       "    }\n",
       "</style>\n",
       "<table border=\"1\" class=\"dataframe\">\n",
       "  <thead>\n",
       "    <tr style=\"text-align: right;\">\n",
       "      <th></th>\n",
       "      <th>0</th>\n",
       "      <th>1</th>\n",
       "      <th>name</th>\n",
       "    </tr>\n",
       "  </thead>\n",
       "  <tbody>\n",
       "    <tr>\n",
       "      <th>1</th>\n",
       "      <td>11.6.2014</td>\n",
       "      <td>199,8</td>\n",
       "      <td>76datengefiltert.txt</td>\n",
       "    </tr>\n",
       "    <tr>\n",
       "      <th>1</th>\n",
       "      <td>15.05.2014</td>\n",
       "      <td>69,4</td>\n",
       "      <td>84datengefiltert.txt</td>\n",
       "    </tr>\n",
       "    <tr>\n",
       "      <th>1</th>\n",
       "      <td>24.10.2012</td>\n",
       "      <td>149,6</td>\n",
       "      <td>16datengefiltert.txt</td>\n",
       "    </tr>\n",
       "    <tr>\n",
       "      <th>1</th>\n",
       "      <td>18.7.2014</td>\n",
       "      <td>100,6</td>\n",
       "      <td>72datengefiltert.txt</td>\n",
       "    </tr>\n",
       "    <tr>\n",
       "      <th>1</th>\n",
       "      <td>15.05.2014</td>\n",
       "      <td>141,2</td>\n",
       "      <td>47datengefiltert.txt</td>\n",
       "    </tr>\n",
       "    <tr>\n",
       "      <th>...</th>\n",
       "      <td>...</td>\n",
       "      <td>...</td>\n",
       "      <td>...</td>\n",
       "    </tr>\n",
       "    <tr>\n",
       "      <th>1</th>\n",
       "      <td>11.09.2014</td>\n",
       "      <td>98,7</td>\n",
       "      <td>20datengefiltert.txt</td>\n",
       "    </tr>\n",
       "    <tr>\n",
       "      <th>1</th>\n",
       "      <td>09.09.2013</td>\n",
       "      <td>150</td>\n",
       "      <td>60datengefiltert.txt</td>\n",
       "    </tr>\n",
       "    <tr>\n",
       "      <th>1</th>\n",
       "      <td>14.11.2014</td>\n",
       "      <td>93,85</td>\n",
       "      <td>80datengefiltert.txt</td>\n",
       "    </tr>\n",
       "    <tr>\n",
       "      <th>1</th>\n",
       "      <td>03.09.2014</td>\n",
       "      <td>98,6</td>\n",
       "      <td>39datengefiltert.txt</td>\n",
       "    </tr>\n",
       "    <tr>\n",
       "      <th>1</th>\n",
       "      <td>18.7.2014</td>\n",
       "      <td>100,4</td>\n",
       "      <td>28datengefiltert.txt</td>\n",
       "    </tr>\n",
       "  </tbody>\n",
       "</table>\n",
       "<p>94 rows × 3 columns</p>\n",
       "</div>"
      ],
      "text/plain": [
       "             0      1                  name\n",
       "1    11.6.2014  199,8  76datengefiltert.txt\n",
       "1   15.05.2014   69,4  84datengefiltert.txt\n",
       "1   24.10.2012  149,6  16datengefiltert.txt\n",
       "1    18.7.2014  100,6  72datengefiltert.txt\n",
       "1   15.05.2014  141,2  47datengefiltert.txt\n",
       "..         ...    ...                   ...\n",
       "1   11.09.2014   98,7  20datengefiltert.txt\n",
       "1   09.09.2013    150  60datengefiltert.txt\n",
       "1   14.11.2014  93,85  80datengefiltert.txt\n",
       "1   03.09.2014   98,6  39datengefiltert.txt\n",
       "1    18.7.2014  100,4  28datengefiltert.txt\n",
       "\n",
       "[94 rows x 3 columns]"
      ]
     },
     "execution_count": 47,
     "metadata": {},
     "output_type": "execute_result"
    }
   ],
   "source": [
    "df"
   ]
  },
  {
   "cell_type": "code",
   "execution_count": null,
   "metadata": {},
   "outputs": [],
   "source": []
  },
  {
   "cell_type": "markdown",
   "metadata": {},
   "source": [
    "### Misc -----------------------"
   ]
  },
  {
   "cell_type": "code",
   "execution_count": null,
   "metadata": {},
   "outputs": [],
   "source": [
    "import seaborn as sns\n",
    "\n",
    "A_prior = dist.Gamma(1, 1E04)\n",
    "smpl = np.ndarray((100000))\n",
    "for i in range(1, 100000):\n",
    "    smpl[i] = (pyro.sample(\"AA\", A_prior))\n",
    "plt.figure(figsize=(3, 3))\n",
    "sns.kdeplot(data=smpl, label=\"A_prior\")"
   ]
  },
  {
   "cell_type": "code",
   "execution_count": null,
   "metadata": {},
   "outputs": [],
   "source": [
    "np.mean(smpl)"
   ]
  },
  {
   "cell_type": "code",
   "execution_count": null,
   "metadata": {},
   "outputs": [],
   "source": [
    "chk = [2,3]"
   ]
  },
  {
   "cell_type": "code",
   "execution_count": null,
   "metadata": {},
   "outputs": [],
   "source": [
    "chk[0]"
   ]
  },
  {
   "cell_type": "code",
   "execution_count": null,
   "metadata": {},
   "outputs": [],
   "source": [
    "plt.plot(data['strain'].to_numpy())\n",
    "import pyro.distributions as dist\n",
    "import pyro\n",
    "sigma =th.tensor(0.1*np.mean(data['strain'].to_numpy()))\n",
    "mean = th.tensor(data['strain'].to_numpy())\n",
    "#str_noise_dist = dist.Normal(mean,-sigma)\n",
    "\n",
    "str_noise = pyro.sample(\"st\",str_noise_dist)\n",
    "plt.plot(str_noise)\n",
    "plt.plot(data['stress'],st_test)"
   ]
  },
  {
   "cell_type": "code",
   "execution_count": null,
   "metadata": {},
   "outputs": [],
   "source": [
    "plt.plot(data['mm.1'])\n",
    "plt.plot(data['mm.2'])\n",
    "plt.plot(data['mm.3'])\n",
    "plt.savefig('strainValues.png')"
   ]
  }
 ],
 "metadata": {
  "kernelspec": {
   "display_name": "Pytorch_env",
   "language": "python",
   "name": "pytorch_env"
  },
  "language_info": {
   "codemirror_mode": {
    "name": "ipython",
    "version": 3
   },
   "file_extension": ".py",
   "mimetype": "text/x-python",
   "name": "python",
   "nbconvert_exporter": "python",
   "pygments_lexer": "ipython3",
   "version": "3.8.3"
  }
 },
 "nbformat": 4,
 "nbformat_minor": 4
}
