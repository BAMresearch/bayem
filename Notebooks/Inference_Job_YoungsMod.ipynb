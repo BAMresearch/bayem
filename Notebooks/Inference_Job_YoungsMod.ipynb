{
 "cells": [
  {
   "cell_type": "code",
   "execution_count": 1,
   "metadata": {},
   "outputs": [],
   "source": [
    "import sys\n",
    "sys.path.insert(0,'..')\n",
    "\n",
    "%load_ext autoreload\n",
    "%autoreload 2"
   ]
  },
  {
   "cell_type": "code",
   "execution_count": 2,
   "metadata": {},
   "outputs": [],
   "source": [
    "import numpy as np\n",
    "\n",
    "import torch as th\n",
    "import pandas as pd\n",
    "import os\n",
    "import matplotlib.pyplot as plt\n",
    "import pyro.distributions as dist\n",
    "import pyro\n",
    "\n",
    "from bayes.parameters import ParameterList\n",
    "from bayes.inference_problem import VariationalBayesProblem, ModelErrorInterface\n",
    "from bayes.Calibration import Inference\n",
    "\n",
    "from utils.misc import dataloader\n"
   ]
  },
  {
   "cell_type": "markdown",
   "metadata": {},
   "source": [
    "# Aim\n",
    "We have load-displacemnt RAW data as a function of time $t$ for a cylindrical concrete with daimeter $d$.\n",
    "\n",
    "- Here the parameter to inferred (E) is not known beforehand\n",
    "- Known Input : $\\sigma(t)$\n",
    "- Noisy Observed values : $\\epsilon(t)$\n",
    "- To infer : E (Youngs Modulus) and noise (treated as a gaussian and s.d is inferred)\n",
    "    - Gamma Hyperprior for the noise term\n",
    "\n",
    "From the experimental data E in the range ~E10\n",
    "\n",
    "Tasks :\n",
    "1. Infer postrior form two E mod experiments and use to predict strain for a new experiment"
   ]
  },
  {
   "cell_type": "markdown",
   "metadata": {},
   "source": [
    "# 1. Reading in the data"
   ]
  },
  {
   "cell_type": "code",
   "execution_count": 3,
   "metadata": {},
   "outputs": [
    {
     "name": "stderr",
     "output_type": "stream",
     "text": [
      "../utils/misc.py:18: ParserWarning: Falling back to the 'python' engine because the 'c' engine does not support skipfooter; you can avoid this warning by specifying engine='python'.\n",
      "  data = pd.read_csv(path, delimiter=\"\\t\", skiprows=14, skipfooter=idx_load_end)\n"
     ]
    }
   ],
   "source": [
    "# Loading data for E-Modulus Wolf specimen 1\n",
    "path_exp1 = '../usecases/Concrete/Data/E-modul/Wolf 8.2 Probe 1/specimen.dat'\n",
    "dia_exp1 = 0.0986\n",
    "height_exp1 = 300.3\n",
    "idx_s_1 = 330\n",
    "idx_e_1 = 145\n",
    "data_exp1 = dataloader(path_exp1,dia_exp1,height_exp1,idx_s_1,idx_e_1)\n",
    "\n",
    "# Loading data for E-Modulus Wolf specimen 4\n",
    "path_exp2 = '../usecases/Concrete/Data/E-modul/Wolf 8.2 Probe 4/specimen.dat'\n",
    "dia_exp2 = 0.0986\n",
    "height_exp2 = 300.2\n",
    "idx_s_2 = 335\n",
    "idx_e_2 = 225\n",
    "data_exp2 = dataloader(path_exp2,dia_exp2,height_exp2,idx_s_2,idx_e_2)\n",
    "\n",
    "# Loading data for E-Modulus Wolf specimen 5\n",
    "path_exp3 = '../usecases/Concrete/Data/E-modul/Wolf 8.2 Probe 5/specimen.dat'\n",
    "dia_exp3 = 0.0987\n",
    "height_exp3 = 299.8\n",
    "idx_s_3 = 320\n",
    "idx_e_3 = 122\n",
    "data_exp3 = dataloader(path_exp3,dia_exp3,height_exp3,idx_s_3,idx_e_3)"
   ]
  },
  {
   "cell_type": "code",
   "execution_count": 4,
   "metadata": {},
   "outputs": [],
   "source": [
    "data_exps = pd.concat([data_exp1,data_exp2,data_exp3])"
   ]
  },
  {
   "cell_type": "code",
   "execution_count": null,
   "metadata": {},
   "outputs": [],
   "source": [
    "(np.max(data_exp1['stress'])-np.min(data_exp1['stress']))/(np.max(data_exp1['strain']-np.min(data_exp1['strain'])))"
   ]
  },
  {
   "cell_type": "code",
   "execution_count": null,
   "metadata": {},
   "outputs": [],
   "source": [
    "plt.plot(data['strain'],data['stress'])\n",
    "plt.xlabel('strain')\n",
    "plt.ylabel('stress')\n",
    "plt.title('Experimental Values for last load cycle')\n",
    "plt.ticklabel_format(style='sci', axis='x', scilimits=(0,0))"
   ]
  },
  {
   "cell_type": "code",
   "execution_count": null,
   "metadata": {},
   "outputs": [],
   "source": [
    "\n",
    "plt.plot(data_exp1['s'],data_exp1['kN.1'],'r')\n",
    "plt.plot(data_exp2['s'],data_exp2['kN.1'],'g')\n",
    "plt.plot(data_exp3['s'],data_exp3['kN.1'],'b')\n",
    "plt.xlabel('s')\n",
    "plt.ylabel('load')"
   ]
  },
  {
   "cell_type": "code",
   "execution_count": 5,
   "metadata": {},
   "outputs": [],
   "source": [
    "# 70-30 training and test split\n",
    "#train, test = np.split(data_exps.sample(frac=1, random_state=42), \n",
    "#                       [int(.7*len(data_exps))])\n",
    "train = pd.concat([data_exp1,data_exp2])\n",
    "test = data_exp3"
   ]
  },
  {
   "cell_type": "markdown",
   "metadata": {},
   "source": [
    "# 2. Forward Solve"
   ]
  },
  {
   "cell_type": "code",
   "execution_count": 6,
   "metadata": {},
   "outputs": [],
   "source": [
    "def forward_solve(known_input, latent_para):\n",
    "    assert isinstance(known_input['known_inputs'],np.ndarray)\n",
    "    stress = known_input['known_inputs']\n",
    "    strain = th.tensor(stress)/latent_para\n",
    "    \n",
    "    return strain"
   ]
  },
  {
   "cell_type": "markdown",
   "metadata": {},
   "source": [
    "# 3. Inference Task\n",
    "- Uniform Prior for the latent variable E\n",
    "- Gamm hyperprior for the noise term"
   ]
  },
  {
   "cell_type": "code",
   "execution_count": 7,
   "metadata": {},
   "outputs": [
    {
     "name": "stderr",
     "output_type": "stream",
     "text": [
      "Sample: 100%|██████████| 2000/2000 [00:10, 199.93it/s, step size=7.46e-01, acc. prob=0.937]\n"
     ]
    },
    {
     "name": "stdout",
     "output_type": "stream",
     "text": [
      "\n",
      "                mean       std    median      5.0%     95.0%     n_eff     r_hat\n",
      "     theta 95139446356.17 466628058.80 95151500242.02 94268335163.77 95797925628.69    605.58      1.00\n",
      "     sigma      0.00      0.00      0.00      0.00      0.00    798.35      1.00\n",
      "\n",
      "Number of divergences: 0\n"
     ]
    }
   ],
   "source": [
    "# -- Metadata for Inference problem\n",
    "        \n",
    "prior_hyperparameter = [90E09, 140E09]\n",
    "prior_dist = \"Uniform\"\n",
    "Observed_data = th.tensor(train['strain'].to_numpy())\n",
    "Noise_distribution = \"Normal\"\n",
    "Noise_hyperparameter = None  # TODO: test with correlated noise model\n",
    "HyperPrior_dist = \"Gamma\"\n",
    "Hyperprior_Parameter = [1,1E05]\n",
    "\n",
    " # ---- Metadata for forward solve\n",
    "forward_solve_wrapper = forward_solve\n",
    "forward_solve_known_input = train['stress'].to_numpy()\n",
    "forward_input = {'known_inputs':forward_solve_known_input}\n",
    "\n",
    "# -- Setup the Inference problem\n",
    "infer = Inference(prior_dist, prior_hyperparameter, forward_solve_wrapper, forward_input, Observed_data,\n",
    "                  Noise_distribution, Noise_hyperparameter,HyperPrior_dist,Hyperprior_Parameter)\n",
    "\n",
    "# -- Solve the Inference problem\n",
    "   \n",
    "posterior_para, posterior_noise = infer.run(1000, kernel=\"NUTS\")"
   ]
  },
  {
   "cell_type": "code",
   "execution_count": null,
   "metadata": {},
   "outputs": [],
   "source": [
    "# The strain values are very small. Need to normalize? What noise hyperprior dist? Their parameters?"
   ]
  },
  {
   "cell_type": "markdown",
   "metadata": {},
   "source": [
    "## 3.1 Inference Visualisation "
   ]
  },
  {
   "cell_type": "code",
   "execution_count": 8,
   "metadata": {},
   "outputs": [
    {
     "data": {
      "image/png": "[encoded data removed]",
      "text/plain": [
       "<Figure size 216x216 with 1 Axes>"
      ]
     },
     "metadata": {
      "needs_background": "light"
     },
     "output_type": "display_data"
    },
    {
     "data": {
      "image/png": "[encoded data removed]",
      "text/plain": [
       "<Figure size 216x216 with 1 Axes>"
      ]
     },
     "metadata": {
      "needs_background": "light"
     },
     "output_type": "display_data"
    }
   ],
   "source": [
    "infer.visualize_prior_posterior(posterior_para, posterior_noise)"
   ]
  },
  {
   "cell_type": "markdown",
   "metadata": {},
   "source": [
    "# 4. Prediction"
   ]
  },
  {
   "cell_type": "code",
   "execution_count": 19,
   "metadata": {},
   "outputs": [],
   "source": [
    "# known input \n",
    "tmp = test['stress'].to_numpy() # AA: Can write a wrapper to read in data if they are in same order (maybe for similar experiment), can also imporrt data from different experiment of the similar specimen\n",
    "new_input_forward = {'known_inputs': tmp}\n",
    "\n",
    "til_X = infer.predict(posterior_para,posterior_noise,new_input_forward,model_discrepancy=True)"
   ]
  },
  {
   "cell_type": "code",
   "execution_count": 20,
   "metadata": {},
   "outputs": [],
   "source": [
    "pos=np.quantile(til_X,[0.05,0.5,0.95],axis=0)"
   ]
  },
  {
   "cell_type": "code",
   "execution_count": 22,
   "metadata": {},
   "outputs": [
    {
     "data": {
      "text/plain": [
       "Text(0, 0.5, 'stress')"
      ]
     },
     "execution_count": 22,
     "metadata": {},
     "output_type": "execute_result"
    },
    {
     "data": {
      "image/png": "[encoded data removed]",
      "text/plain": [
       "<Figure size 432x288 with 1 Axes>"
      ]
     },
     "metadata": {
      "needs_background": "light"
     },
     "output_type": "display_data"
    }
   ],
   "source": [
    "#plt.plot(data['s'],pos[1,:])\n",
    "plt.ticklabel_format(style='sci', axis='x', scilimits=(0, 0))\n",
    "plt.fill_betweenx(test['stress'],pos[0,:],pos[2,:],alpha=0.4, label='Predicted strain')\n",
    "#plt.fill_between(test['stress'],pos[0,:],pos[2,:],alpha=0.8, label='Predicted strain')\n",
    "plt.plot(test['strain'],test['stress'],'g', label='Experimental strain')\n",
    "#plt.plot(pos[1,:],test['stress'],'b',alpha=0.2)\n",
    "#plt.plot(pos[0,:],test['stress'],'b',alpha=0.2,label='Prediction')\n",
    "#plt.plot(pos[2,:],test['stress'],'b',alpha=0.2)\n",
    "plt.legend()\n",
    "plt.xlabel('strain')\n",
    "plt.ylabel('stress')"
   ]
  },
  {
   "cell_type": "markdown",
   "metadata": {},
   "source": [
    "# Misc"
   ]
  },
  {
   "cell_type": "code",
   "execution_count": null,
   "metadata": {},
   "outputs": [],
   "source": [
    "\n",
    "sampled_parameters = pyro.sample('test', dist.Normal(0, 1))"
   ]
  },
  {
   "cell_type": "code",
   "execution_count": null,
   "metadata": {},
   "outputs": [],
   "source": [
    "for name,value in sampled_parameters:\n",
    "    print(name,value)"
   ]
  },
  {
   "cell_type": "code",
   "execution_count": null,
   "metadata": {},
   "outputs": [],
   "source": [
    "sampled_parameters.items()"
   ]
  },
  {
   "cell_type": "code",
   "execution_count": null,
   "metadata": {},
   "outputs": [],
   "source": [
    "import pyro \n",
    "import pyro.distributions as dist\n",
    "import torch as th\n",
    "\n",
    "mean = [1.0, 2.0]\n",
    "\n",
    "cov = [[1., 0.],\n",
    "       [0., 1.]]\n",
    "\n",
    "pyro.sample('test', dist.Normal(th.tensor([1.,2.,3.]),1.))"
   ]
  },
  {
   "cell_type": "code",
   "execution_count": null,
   "metadata": {},
   "outputs": [],
   "source": [
    "mean = np.ones(5)"
   ]
  },
  {
   "cell_type": "code",
   "execution_count": null,
   "metadata": {},
   "outputs": [],
   "source": [
    "th.tensor(mean)"
   ]
  },
  {
   "cell_type": "code",
   "execution_count": null,
   "metadata": {},
   "outputs": [],
   "source": [
    "cov"
   ]
  },
  {
   "cell_type": "code",
   "execution_count": null,
   "metadata": {},
   "outputs": [],
   "source": []
  }
 ],
 "metadata": {
  "kernelspec": {
   "display_name": "Pytorch_env",
   "language": "python",
   "name": "pytorch_env"
  },
  "language_info": {
   "codemirror_mode": {
    "name": "ipython",
    "version": 3
   },
   "file_extension": ".py",
   "mimetype": "text/x-python",
   "name": "python",
   "nbconvert_exporter": "python",
   "pygments_lexer": "ipython3",
   "version": "3.8.3"
  }
 },
 "nbformat": 4,
 "nbformat_minor": 4
}
